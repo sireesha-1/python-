{
  "nbformat": 4,
  "nbformat_minor": 0,
  "metadata": {
    "colab": {
      "name": "Untitled0.ipynb",
      "provenance": [],
      "collapsed_sections": []
    },
    "kernelspec": {
      "name": "python3",
      "display_name": "Python 3"
    }
  },
  "cells": [
    {
      "cell_type": "code",
      "metadata": {
        "id": "sb_g0Lv_m5Ki",
        "colab_type": "code",
        "colab": {
          "base_uri": "https://localhost:8080/",
          "height": 129
        },
        "outputId": "cec3a991-d73a-462d-fed2-7225a2f52b22"
      },
      "source": [
        "for num in range(1042000,702648265):\n",
        "    order = len(str(num))\n",
        "    sum=0\n",
        "    temp=num\n",
        "      if num==sum:\n",
        "            print(num)\n",
        "    while temp>0:\n",
        "        digit= temp % 10\n",
        "        sum+=digit ** order\n",
        "        temp//=10\n",
        "if num==sum:\n",
        "            print(num)\n",
        "    break"
      ],
      "execution_count": 17,
      "outputs": [
        {
          "output_type": "error",
          "ename": "IndentationError",
          "evalue": "ignored",
          "traceback": [
            "\u001b[0;36m  File \u001b[0;32m\"<ipython-input-17-989c0d458acd>\"\u001b[0;36m, line \u001b[0;32m5\u001b[0m\n\u001b[0;31m    if num==sum:\u001b[0m\n\u001b[0m    ^\u001b[0m\n\u001b[0;31mIndentationError\u001b[0m\u001b[0;31m:\u001b[0m unexpected indent\n"
          ]
        }
      ]
    },
    {
      "cell_type": "code",
      "metadata": {
        "id": "Y2qkYGjOx9Kp",
        "colab_type": "code",
        "colab": {}
      },
      "source": [
        ""
      ],
      "execution_count": 15,
      "outputs": []
    }
  ]
}